{
 "cells": [
  {
   "cell_type": "code",
   "execution_count": null,
   "id": "1ef2ade3",
   "metadata": {
    "vscode": {
     "languageId": "plaintext"
    }
   },
   "outputs": [],
   "source": [
    "import numpy as np\n",
    "import pandas as pd\n",
    "\n",
    "# Constants\n",
    "g = 9.81  # gravity\n",
    "rho = 1.225  # air density (kg/m³)\n",
    "Cd = 0.47  # drag coefficient for sphere\n",
    "A = 0.01  # cross-sectional area (m²)\n",
    "dt = 0.01  # time step\n",
    "\n",
    "def simulate_trajectory(v0, angle_deg, mass, wind_speed=0):\n",
    "    angle = np.radians(angle_deg)\n",
    "    vx = v0 * np.cos(angle)\n",
    "    vy = v0 * np.sin(angle)\n",
    "\n",
    "    x, y = 0, 0\n",
    "    t = 0\n",
    "    traj = []\n",
    "\n",
    "    while y >= 0:\n",
    "        v = np.sqrt((vx - wind_speed)**2 + vy**2)\n",
    "        drag_force = 0.5 * rho * Cd * A * v**2\n",
    "        drag_acc_x = drag_force * (vx - wind_speed) / v / mass\n",
    "        drag_acc_y = drag_force * vy / v / mass\n",
    "\n",
    "        ax = -drag_acc_x\n",
    "        ay = -g - drag_acc_y\n",
    "\n",
    "        vx += ax * dt\n",
    "        vy += ay * dt\n",
    "        x += vx * dt\n",
    "        y += vy * dt\n",
    "        t += dt\n",
    "\n",
    "        traj.append([t, x, y])\n",
    "\n",
    "    return traj\n",
    "\n",
    "# Generate dataset\n",
    "def create_dataset(n_samples=5000):\n",
    "    data = []\n",
    "    for _ in range(n_samples):\n",
    "        v0 = np.random.uniform(20, 100)\n",
    "        angle = np.random.uniform(15, 75)\n",
    "        mass = np.random.uniform(0.1, 5)\n",
    "        wind = np.random.uniform(-10, 10)\n",
    "\n",
    "        traj = simulate_trajectory(v0, angle, mass, wind)\n",
    "        x_vals, y_vals = zip(*[(x, y) for _, x, y in traj])\n",
    "        for t, x, y in traj[::5]:  # sample every 5th point\n",
    "            data.append([v0, angle, mass, wind, t, x, y])\n",
    "\n",
    "    return pd.DataFrame(data, columns=['v0', 'angle', 'mass', 'wind', 'time', 'x', 'y'])\n",
    "\n",
    "# Save to CSV\n",
    "df = create_dataset(1000)\n",
    "df.to_csv(\"ballistic_data.csv\", index=False)\n"
   ]
  }
 ],
 "metadata": {
  "language_info": {
   "name": "python"
  }
 },
 "nbformat": 4,
 "nbformat_minor": 5
}
